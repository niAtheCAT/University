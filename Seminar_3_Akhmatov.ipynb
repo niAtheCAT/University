{
 "cells": [
  {
   "cell_type": "code",
   "execution_count": 53,
   "metadata": {},
   "outputs": [
    {
     "data": {
      "text/plain": [
       "a    13.0\n",
       "b     NaN\n",
       "c     5.0\n",
       "d     7.0\n",
       "dtype: float64"
      ]
     },
     "execution_count": 53,
     "metadata": {},
     "output_type": "execute_result"
    }
   ],
   "source": [
    "import pandas as pd\n",
    "\n",
    "s = pd.Series([3, -5, 7, 4], index=['a', 'b', 'c', 'd'])\n",
    "\n",
    "data = {'Country': ['Belgium', 'India', 'Brazil'],\n",
    "        'Capital': ['Brussels', 'New Dehli', 'Brasilia'],\n",
    "        'Population': [11190846, 1303171035, 207847528]}\n",
    "\n",
    "df = pd.DataFrame(data,\n",
    "                 columns=['Country', 'Capital', 'Population'])\n",
    "df\n",
    "\n",
    "pd.read_csv('Downloads/train.csv', header=None, nrows=10)\n",
    "\n",
    "s['b']\n",
    "\n",
    "df[1:]\n",
    "\n",
    "df.iloc[[0],[0]]\n",
    "\n",
    "df.loc[[0], ['Country']]\n",
    "\n",
    "s[~(s > 1)]\n",
    "s[(s < 1) | (s > 2)]\n",
    "df[df['Population'] > 1200000000]\n",
    "\n",
    "s['a'] = 6\n",
    "\n",
    "s.drop(['a', 'c'])\n",
    "\n",
    "df.drop('Country', axis=1)\n",
    "\n",
    "df.sort_index()\n",
    "\n",
    "df.sort_values(by='Country')\n",
    "\n",
    "df.rank()\n",
    "\n",
    "df.shape\n",
    "\n",
    "df.index\n",
    "\n",
    "df.columns\n",
    "\n",
    "# df.info()\n",
    "\n",
    "df.count()\n",
    "\n",
    "df.sum()\n",
    "\n",
    "df.cumsum()\n",
    "\n",
    "df.describe()\n",
    "\n",
    "df.mean()\n",
    "\n",
    "df.median()\n",
    "\n",
    "\n",
    "f = lambda x: x*2\n",
    "df.apply(f)\n",
    "df.applymap(f)\n",
    "\n",
    "s3 = pd.Series([7, -2, 3], index=['a', 'c', 'd'])\n",
    "s + s3"
   ]
  },
  {
   "cell_type": "code",
   "execution_count": 73,
   "metadata": {},
   "outputs": [
    {
     "data": {
      "text/plain": [
       "<AxesSubplot:ylabel='Frequency'>"
      ]
     },
     "execution_count": 73,
     "metadata": {},
     "output_type": "execute_result"
    },
    {
     "data": {
      "image/png": "[encoded data removed]",
      "text/plain": [
       "<Figure size 432x288 with 1 Axes>"
      ]
     },
     "metadata": {
      "needs_background": "light"
     },
     "output_type": "display_data"
    }
   ],
   "source": [
    "df = pd.DataFrame(\n",
    "    {'a' : [4, 5, 6],\n",
    "     'b' : [7, 8, 9],\n",
    "     'c' : [10, 11, 12]},\n",
    "    index = [1, 2, 3])\n",
    "df\n",
    "df = pd.DataFrame(\n",
    "    {'a' : [4, 5, 6],\n",
    "     'b' : [7, 8, 9],\n",
    "     'c' : [10, 11, 12]},\n",
    "    index = pd.MultiIndex.from_tuples(\n",
    "    [('d', 1), ('d', 2), ('e', 2)],\n",
    "        names = ['n', 'v']))\n",
    "df\n",
    "\n",
    "pd.melt(df)\n",
    "\n",
    "df.head(2)\n",
    "df.tail(2)\n",
    "\n",
    "df.sample(frac=0.5)\n",
    "df.sample(n=1)\n",
    "\n",
    "df[['a', 'b']]\n",
    "\n",
    "len(df)\n",
    "\n",
    "df.plot.hist()"
   ]
  }
 ],
 "metadata": {
  "kernelspec": {
   "display_name": "Python 3",
   "language": "python",
   "name": "python3"
  },
  "language_info": {
   "codemirror_mode": {
    "name": "ipython",
    "version": 3
   },
   "file_extension": ".py",
   "mimetype": "text/x-python",
   "name": "python",
   "nbconvert_exporter": "python",
   "pygments_lexer": "ipython3",
   "version": "3.8.5"
  }
 },
 "nbformat": 4,
 "nbformat_minor": 4
}
